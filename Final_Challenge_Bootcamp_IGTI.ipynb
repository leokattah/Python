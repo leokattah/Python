{
  "nbformat": 4,
  "nbformat_minor": 0,
  "metadata": {
    "colab": {
      "name": "Final_Challenge_Bootcamp_IGTI.ipynb",
      "provenance": [],
      "collapsed_sections": [],
      "authorship_tag": "ABX9TyOnlb193OBxW1e5BidR5U62",
      "include_colab_link": true
    },
    "kernelspec": {
      "name": "python3",
      "display_name": "Python 3"
    }
  },
  "cells": [
    {
      "cell_type": "markdown",
      "metadata": {
        "id": "view-in-github",
        "colab_type": "text"
      },
      "source": [
        "<a href=\"https://colab.research.google.com/github/leokattah/Python/blob/master/Final_Challenge_Bootcamp_IGTI.ipynb\" target=\"_parent\"><img src=\"https://colab.research.google.com/assets/colab-badge.svg\" alt=\"Open In Colab\"/></a>"
      ]
    },
    {
      "cell_type": "code",
      "metadata": {
        "id": "TS6-tUzx7Etd",
        "colab_type": "code",
        "colab": {
          "base_uri": "https://localhost:8080/",
          "height": 105
        },
        "outputId": "9f1cde0f-c270-41ff-9a1c-12764ad444ef"
      },
      "source": [
        "salario_bruto=0\n",
        "salario_desc_INSS=0\n",
        "teto1_INSS = float(1045)\n",
        "teto2_INSS = float(2089.6)\n",
        "teto3_INSS = float(3134.4)\n",
        "teto4_INSS = float(6101.06)\n",
        "\n",
        "teto1_IRRF = float(1903.98)\n",
        "teto2_IRRF = float(2826.65)\n",
        "teto3_IRRF = float(3751.05)\n",
        "teto4_IRRF = float(4664.08)\n",
        "\n",
        "\n",
        "salario_bruto=float(input(\"Digite o valor do salario bruto: \"))\n",
        "print(\"Sálario Bruto = R$%.2f\"% (salario_bruto))\n",
        "\n",
        "if salario_bruto <=teto1_INSS:\n",
        "  faixa1=salario_bruto\n",
        "  desconto_INSS = faixa1*0.075\n",
        "  print(\"Desconto do INSS = R$%.2f\"% (desconto_INSS))\n",
        "\n",
        "elif salario_bruto>teto1_INSS and salario_bruto<=teto2_INSS:\n",
        "  faixa1=teto1_INSS\n",
        "  faixa2= float(salario_bruto-faixa1)\n",
        "  desconto_INSS = faixa1*0.075+faixa2*0.09\n",
        "  print(\"Desconto do INSS = R$%.2f\"% (desconto_INSS))\n",
        "    \n",
        "elif salario_bruto>teto2_INSS and salario_bruto<=teto3_INSS:\n",
        "  faixa1=teto1_INSS\n",
        "  faixa2=teto2_INSS-teto1_INSS\n",
        "  faixa3= float(salario_bruto-teto2_INSS)\n",
        "  desconto_INSS = faixa1*0.075+faixa2*0.09+faixa3*0.12\n",
        "  print(\"Desconto do INSS = R$%.2f\"% (desconto_INSS))\n",
        "\n",
        "elif salario_bruto>teto3_INSS and salario_bruto<=teto4_INSS:\n",
        "  faixa1=teto1_INSS\n",
        "  faixa2=teto2_INSS-teto1_INSS\n",
        "  faixa3=teto3_INSS-teto2_INSS\n",
        "  faixa4= float(salario_bruto-teto3_INSS)\n",
        "  desconto_INSS = faixa1*0.075+faixa2*0.09+faixa3*0.12+faixa4*0.14\n",
        "  print(\"Desconto do INSS = R$%.2f\"% (desconto_INSS))\n",
        "\n",
        "else:\n",
        "  desconto_INSS = float(713.10)\n",
        "  print(\"Desconto do INSS = R$%.2f\"% (desconto_INSS))\n",
        "\n",
        "salario_desc_INSS=float(salario_bruto-desconto_INSS)\n",
        "#print(\"Salário com o desconto do INSS = R$%.2f\"% (salario_desc_INSS))\n",
        "\n",
        "\n",
        "\n",
        "if salario_desc_INSS <=teto1_IRRF:\n",
        "  salario_liquido=salario_desc_INSS\n",
        "  desconto_total=desconto_INSS\n",
        "  print(\"Desconto do total = R$%.2f\"% (desconto_total))\n",
        "  print(\"Sálario líquido = R$%.2f\"% (salario_liquido))\n",
        "\n",
        "elif salario_desc_INSS>teto1_IRRF and salario_desc_INSS<=teto2_IRRF:\n",
        "  parcela_dedutiva =142.80\n",
        "  desconto_IRRF = salario_desc_INSS*0.075-parcela_dedutiva\n",
        "  desconto_total=desconto_INSS+desconto_IRRF\n",
        "  salario_liquido=salario_desc_INSS-desconto_IRRF\n",
        "  print(\"Desconto do IRRF= R$%.2f\"% (desconto_IRRF))\n",
        "  print(\"Desconto do total = R$%.2f\"% (desconto_total))\n",
        "  print(\"Sálario líquido = R$%.2f\"% (salario_liquido))\n",
        "\n",
        "elif salario_desc_INSS>teto2_IRRF and salario_desc_INSS<=teto3_IRRF:\n",
        "  parcela_dedutiva =354.8\n",
        "  desconto_IRRF = salario_desc_INSS*0.15-parcela_dedutiva\n",
        "  desconto_total=desconto_INSS+desconto_IRRF\n",
        "  salario_liquido=salario_desc_INSS-desconto_IRRF\n",
        "  print(\"Desconto do IRRF= R$%.2f\"% (desconto_IRRF))\n",
        "  print(\"Desconto do total = R$%.2f\"% (desconto_total))\n",
        "  print(\"Sálario líquido = R$%.2f\"% (salario_liquido))\n",
        "\n",
        "elif salario_desc_INSS>teto3_IRRF and salario_desc_INSS<=teto4_IRRF:\n",
        "  parcela_dedutiva =636.13\n",
        "  desconto_IRRF = salario_desc_INSS*0.225-parcela_dedutiva\n",
        "  desconto_total=desconto_INSS+desconto_IRRF\n",
        "  salario_liquido=salario_desc_INSS-desconto_IRRF\n",
        "  print(\"Desconto do IRRF= R$%.2f\"% (desconto_IRRF))\n",
        "  print(\"Desconto do total = R$%.2f\"% (desconto_total))\n",
        "  print(\"Sálario líquido = R$%.2f\"% (salario_liquido))\n",
        "\n",
        "else:\n",
        "  parcela_dedutiva =869.36\n",
        "  desconto_IRRF = salario_desc_INSS*0.275-parcela_dedutiva\n",
        "  desconto_total=desconto_INSS+desconto_IRRF\n",
        "  salario_liquido=salario_desc_INSS-desconto_IRRF\n",
        "  print(\"Desconto do IRRF= R$%.2f\"% (desconto_IRRF))\n",
        "  print(\"Desconto do total = R$%.2f\"% (desconto_total))\n",
        "  print(\"Sálario líquido = R$%.2f\"% (salario_liquido))"
      ],
      "execution_count": null,
      "outputs": [
        {
          "output_type": "stream",
          "text": [
            "Digite o valor do salario bruto: 1000\n",
            "Sálario Bruto = R$1000.00\n",
            "Desconto do INSS = R$75.00\n",
            "Desconto do total = R$75.00\n",
            "Sálario líquido = R$925.00\n"
          ],
          "name": "stdout"
        }
      ]
    }
  ]
}