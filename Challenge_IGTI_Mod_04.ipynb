{
  "nbformat": 4,
  "nbformat_minor": 0,
  "metadata": {
    "colab": {
      "name": "Challenge_IGTI_Mod_04.ipynb",
      "provenance": [],
      "collapsed_sections": [],
      "authorship_tag": "ABX9TyOYJIgAji4lXnenSE4ZQm0v",
      "include_colab_link": true
    },
    "kernelspec": {
      "name": "python3",
      "display_name": "Python 3"
    }
  },
  "cells": [
    {
      "cell_type": "markdown",
      "metadata": {
        "id": "view-in-github",
        "colab_type": "text"
      },
      "source": [
        "<a href=\"https://colab.research.google.com/github/leokattah/Python/blob/master/Challenge_IGTI_Mod_04.ipynb\" target=\"_parent\"><img src=\"https://colab.research.google.com/assets/colab-badge.svg\" alt=\"Open In Colab\"/></a>"
      ]
    },
    {
      "cell_type": "code",
      "metadata": {
        "id": "1xPonjme4scg",
        "colab_type": "code",
        "colab": {
          "base_uri": "https://localhost:8080/",
          "height": 404
        },
        "outputId": "999a0844-4cd8-4dfb-9d42-5f145c49ce26"
      },
      "source": [
        "#clientes é uma lista de Strings\n",
        "#produtos é uma lista de dicionários\n",
        "\n",
        "clientes=[\"Marcelo\",\"Joana D'arc\",\"Maria de Fátima\"]\n",
        "produtos=[{\"nome\":\"computador\",\"preco\":1000.50},{\"nome\":\"mouse\",\"preco\":120.10},{\"nome\":\"Monitor LCD\",\"preco\":999.99}]\n",
        "\n",
        "\n",
        "def clientes_contem_nome(clientes, nome): #função que permite o usuário encontrar o nome dentro da lista \"clientes\". \n",
        "  for nome_cliente in clientes:\n",
        "    if (nome in nome_cliente):\n",
        "      return nome_cliente\n",
        "    return \"\"\n",
        "\n",
        "def produtos_contem_nome(produtos, nome): # função que permite o usuário encontrar o nome do produto dentro do dicionário \"produtos\". \n",
        "   for produto in produtos:\n",
        "    if (nome in produto[\"nome\"]):\n",
        "       return produto\n",
        "   return \"\"\n",
        "\n",
        "nome = input (\"Digite o nome do cliente: \")\n",
        "nome_encontrado = clientes_contem_nome(clientes, nome) # recebe o resultado da função \"clientes_contem_nomes(clientes, nome)\"\n",
        "print (nome_encontrado)\n",
        "\n",
        "continuar_comprando = \"S\" or \"N\"\n",
        "itens_comprados = []\n",
        "total_da_compra = 0\n",
        "nome_produto = \"teste\"\n",
        "while (nome_produto !=\"\") and (continuar_comprando == \"S\"):\n",
        "  nome_produto = input(\"Digite o nome do produto: \")\n",
        "  quantidade = int(input(\"Digite a quantidade: \"))\n",
        "  produto_encontrado = produtos_contem_nome(produtos, nome_produto) #recebe o resultado da função \"produtos_contem_nome (produtos, nome_produto)\"\n",
        "  print (produto_encontrado)\n",
        "   \n",
        "  preco_compra_produto = produto_encontrado[\"preco\"] * quantidade\n",
        "  imposto_pago = preco_compra_produto * 0.10\n",
        "\n",
        "  print (\"O preço total do item: {}\".format (preco_compra_produto))\n",
        "  print (\"Imposto pago: {}\".format(round(imposto_pago,2)))\n",
        "\n",
        "\n",
        "# Inserindo os itens e valores encontrados no array Itens_comprados\n",
        "  itens_comprados.append(produto_encontrado[\"nome\"])  #Posição 0 do array itens_comprados\n",
        "  itens_comprados.append(quantidade)  #Posição 1 do array itens_comprados\n",
        "  itens_comprados.append(round(imposto_pago,2)) #Posição 2 do array itens_comprados\n",
        "  itens_comprados.append(preco_compra_produto) #Posição 3 do array itens_comprados\n",
        "\n",
        "  #Total da nota fiscal\n",
        "  total_da_compra = total_da_compra + preco_compra_produto\n",
        "\n",
        "  continuar_comprando =  input(\"Deseja continuar comprando? (S) ou (N)?\")\n",
        "  if continuar_comprando.upper() == \"N\":\n",
        "    continue\n",
        "\n",
        "print (\"==================================\")\n",
        "print (\"Nota fiscal\")\n",
        "print (\"Cliente:{}\".format(nome_encontrado))\n",
        "print (\"Itens comprados\")\n",
        "i = 0\n",
        "while i < len(itens_comprados):\n",
        "  print (\"Item comprado: {} - \".format(itens_comprados[i]),\"Quantidade: {} - \".format(itens_comprados[i+1]), \"Valor do Imposto: {} -\".format(itens_comprados[i+2]), \"Valor Total: {}\".format(itens_comprados[i+3]))\n",
        "  i = i + 4\n",
        "print (\"Total da Nota: R${}\".format(total_da_compra))\n",
        "print (\"Volte Sempre!\")\n",
        "\n"
      ],
      "execution_count": 9,
      "outputs": [
        {
          "output_type": "stream",
          "text": [
            "Digite o nome do cliente: mar\n",
            "\n",
            "Digite o nome do produto: mouse\n",
            "Digite a quantidade: 2\n",
            "{'nome': 'mouse', 'preco': 120.1}\n",
            "O preço total do item: 240.2\n",
            "Imposto pago: 24.02\n",
            "Deseja continuar comprando? (S) ou (N)?S\n",
            "Digite o nome do produto: computador\n",
            "Digite a quantidade: 1\n",
            "{'nome': 'computador', 'preco': 1000.5}\n",
            "O preço total do item: 1000.5\n",
            "Imposto pago: 100.05\n",
            "Deseja continuar comprando? (S) ou (N)?N\n",
            "==================================\n",
            "Nota fiscal\n",
            "Cliente:\n",
            "Itens comprados\n",
            "Item comprado: mouse -  Quantidade: 2 -  Valor do Imposto: 24.02 - Valor Total: 240.2\n",
            "Item comprado: computador -  Quantidade: 1 -  Valor do Imposto: 100.05 - Valor Total: 1000.5\n",
            "Total da Nota: R$1240.7\n",
            "Volte Sempre!\n"
          ],
          "name": "stdout"
        }
      ]
    },
    {
      "cell_type": "markdown",
      "metadata": {
        "id": "6AZbZNW6R85U",
        "colab_type": "text"
      },
      "source": [
        ""
      ]
    }
  ]
}